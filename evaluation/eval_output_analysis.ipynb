{
 "cells": [
  {
   "cell_type": "code",
   "execution_count": 8,
   "id": "aa98efb9",
   "metadata": {},
   "outputs": [],
   "source": [
    "import pandas as pd\n",
    "import numpy as np\n",
    "import matplotlib.pyplot as plt\n",
    "from datetime import datetime"
   ]
  },
  {
   "cell_type": "code",
   "execution_count": 2,
   "id": "9f069ead",
   "metadata": {},
   "outputs": [],
   "source": [
    "#data_path = r\"\\\\wsl.localhost\\Ubuntu\\home\\jarryd\\project\\cms-cls-tea\\evaluation\\output_evaluation\\conc_versus_x.csv\"\n",
    "# data_path = './data/06_01_test.csv'\n",
    "data_path = \"./output_evaluation/conc_versus_x.csv\"\n",
    "data = pd.read_csv(data_path, names=['distance_from_margin', 'conc_slice'])"
   ]
  },
  {
   "cell_type": "code",
   "execution_count": 3,
   "id": "7ba82305",
   "metadata": {},
   "outputs": [
    {
     "data": {
      "text/html": [
       "<div>\n",
       "<style scoped>\n",
       "    .dataframe tbody tr th:only-of-type {\n",
       "        vertical-align: middle;\n",
       "    }\n",
       "\n",
       "    .dataframe tbody tr th {\n",
       "        vertical-align: top;\n",
       "    }\n",
       "\n",
       "    .dataframe thead th {\n",
       "        text-align: right;\n",
       "    }\n",
       "</style>\n",
       "<table border=\"1\" class=\"dataframe\">\n",
       "  <thead>\n",
       "    <tr style=\"text-align: right;\">\n",
       "      <th></th>\n",
       "      <th>distance_from_margin</th>\n",
       "      <th>conc_slice</th>\n",
       "    </tr>\n",
       "  </thead>\n",
       "  <tbody>\n",
       "    <tr>\n",
       "      <th>0</th>\n",
       "      <td>0.000000</td>\n",
       "      <td>0.0</td>\n",
       "    </tr>\n",
       "    <tr>\n",
       "      <th>1</th>\n",
       "      <td>0.063492</td>\n",
       "      <td>0.0</td>\n",
       "    </tr>\n",
       "    <tr>\n",
       "      <th>2</th>\n",
       "      <td>0.126984</td>\n",
       "      <td>0.0</td>\n",
       "    </tr>\n",
       "    <tr>\n",
       "      <th>3</th>\n",
       "      <td>0.190476</td>\n",
       "      <td>0.0</td>\n",
       "    </tr>\n",
       "    <tr>\n",
       "      <th>4</th>\n",
       "      <td>0.253968</td>\n",
       "      <td>0.0</td>\n",
       "    </tr>\n",
       "    <tr>\n",
       "      <th>...</th>\n",
       "      <td>...</td>\n",
       "      <td>...</td>\n",
       "    </tr>\n",
       "    <tr>\n",
       "      <th>59</th>\n",
       "      <td>3.746032</td>\n",
       "      <td>0.0</td>\n",
       "    </tr>\n",
       "    <tr>\n",
       "      <th>60</th>\n",
       "      <td>3.809524</td>\n",
       "      <td>0.0</td>\n",
       "    </tr>\n",
       "    <tr>\n",
       "      <th>61</th>\n",
       "      <td>3.873016</td>\n",
       "      <td>0.0</td>\n",
       "    </tr>\n",
       "    <tr>\n",
       "      <th>62</th>\n",
       "      <td>3.936508</td>\n",
       "      <td>0.0</td>\n",
       "    </tr>\n",
       "    <tr>\n",
       "      <th>63</th>\n",
       "      <td>4.000000</td>\n",
       "      <td>0.0</td>\n",
       "    </tr>\n",
       "  </tbody>\n",
       "</table>\n",
       "<p>64 rows × 2 columns</p>\n",
       "</div>"
      ],
      "text/plain": [
       "    distance_from_margin  conc_slice\n",
       "0               0.000000         0.0\n",
       "1               0.063492         0.0\n",
       "2               0.126984         0.0\n",
       "3               0.190476         0.0\n",
       "4               0.253968         0.0\n",
       "..                   ...         ...\n",
       "59              3.746032         0.0\n",
       "60              3.809524         0.0\n",
       "61              3.873016         0.0\n",
       "62              3.936508         0.0\n",
       "63              4.000000         0.0\n",
       "\n",
       "[64 rows x 2 columns]"
      ]
     },
     "execution_count": 3,
     "metadata": {},
     "output_type": "execute_result"
    }
   ],
   "source": [
    "data"
   ]
  },
  {
   "cell_type": "code",
   "execution_count": 5,
   "id": "ba91605d",
   "metadata": {},
   "outputs": [
    {
     "data": {
      "image/png": "[encoded data removed]",
      "text/plain": [
       "<Figure size 576x576 with 1 Axes>"
      ]
     },
     "metadata": {
      "needs_background": "light"
     },
     "output_type": "display_data"
    }
   ],
   "source": [
    "#data.plot('distance_from_margin', 'conc_slice')\n",
    "title = 'Distance from Margin vs Concentration Slice'\n",
    "\n",
    "plt.figure(figsize=(8,8))\n",
    "plt.plot(data['distance_from_margin'], data['conc_slice'])\n",
    "plt.xlabel('Distance from Margin (units)')\n",
    "plt.ylabel('Concentration Slice (units)')\n",
    "plt.title(title)\n",
    "\n",
    "date_str = datetime.today().strftime('%Y_%m_%d')\n",
    "plt.savefig('./figures/{}_{}.png'.format(date_str, title))"
   ]
  },
  {
   "cell_type": "code",
   "execution_count": 27,
   "id": "cf4948db",
   "metadata": {},
   "outputs": [],
   "source": [
    "from os import listdir\n",
    "from os.path import isfile, join\n",
    "\n",
    "mypath = \"./output_evaluation/\"\n",
    "onlyfiles = [f for f in listdir(mypath) if isfile(join(mypath, f))]\n",
    "\n",
    "pdf = pd.DataFrame(onlyfiles, columns=[\"files\"])\n",
    "pdf[\"t_points\"] = pdf[\"files\"].map(lambda x: int(x.replace(\"grid_diffuse_\", \"\").replace(\"conc_versus_x.csv\", \"\")))\n",
    "pdf = pdf.sort_values(\"t_points\").reset_index(drop=True)"
   ]
  },
  {
   "cell_type": "code",
   "execution_count": 29,
   "id": "6a0339f0-57d6-48cd-a8b5-7fceff663b55",
   "metadata": {},
   "outputs": [
    {
     "data": {
      "text/html": [
       "<div>\n",
       "<style scoped>\n",
       "    .dataframe tbody tr th:only-of-type {\n",
       "        vertical-align: middle;\n",
       "    }\n",
       "\n",
       "    .dataframe tbody tr th {\n",
       "        vertical-align: top;\n",
       "    }\n",
       "\n",
       "    .dataframe thead th {\n",
       "        text-align: right;\n",
       "    }\n",
       "</style>\n",
       "<table border=\"1\" class=\"dataframe\">\n",
       "  <thead>\n",
       "    <tr style=\"text-align: right;\">\n",
       "      <th></th>\n",
       "      <th>files</th>\n",
       "      <th>t_points</th>\n",
       "    </tr>\n",
       "  </thead>\n",
       "  <tbody>\n",
       "    <tr>\n",
       "      <th>0</th>\n",
       "      <td>grid_diffuse_0conc_versus_x.csv</td>\n",
       "      <td>0</td>\n",
       "    </tr>\n",
       "    <tr>\n",
       "      <th>1</th>\n",
       "      <td>grid_diffuse_100conc_versus_x.csv</td>\n",
       "      <td>100</td>\n",
       "    </tr>\n",
       "    <tr>\n",
       "      <th>2</th>\n",
       "      <td>grid_diffuse_200conc_versus_x.csv</td>\n",
       "      <td>200</td>\n",
       "    </tr>\n",
       "    <tr>\n",
       "      <th>3</th>\n",
       "      <td>grid_diffuse_300conc_versus_x.csv</td>\n",
       "      <td>300</td>\n",
       "    </tr>\n",
       "    <tr>\n",
       "      <th>4</th>\n",
       "      <td>grid_diffuse_400conc_versus_x.csv</td>\n",
       "      <td>400</td>\n",
       "    </tr>\n",
       "    <tr>\n",
       "      <th>...</th>\n",
       "      <td>...</td>\n",
       "      <td>...</td>\n",
       "    </tr>\n",
       "    <tr>\n",
       "      <th>95</th>\n",
       "      <td>grid_diffuse_9500conc_versus_x.csv</td>\n",
       "      <td>9500</td>\n",
       "    </tr>\n",
       "    <tr>\n",
       "      <th>96</th>\n",
       "      <td>grid_diffuse_9600conc_versus_x.csv</td>\n",
       "      <td>9600</td>\n",
       "    </tr>\n",
       "    <tr>\n",
       "      <th>97</th>\n",
       "      <td>grid_diffuse_9700conc_versus_x.csv</td>\n",
       "      <td>9700</td>\n",
       "    </tr>\n",
       "    <tr>\n",
       "      <th>98</th>\n",
       "      <td>grid_diffuse_9800conc_versus_x.csv</td>\n",
       "      <td>9800</td>\n",
       "    </tr>\n",
       "    <tr>\n",
       "      <th>99</th>\n",
       "      <td>grid_diffuse_9900conc_versus_x.csv</td>\n",
       "      <td>9900</td>\n",
       "    </tr>\n",
       "  </tbody>\n",
       "</table>\n",
       "<p>100 rows × 2 columns</p>\n",
       "</div>"
      ],
      "text/plain": [
       "                                 files  t_points\n",
       "0      grid_diffuse_0conc_versus_x.csv         0\n",
       "1    grid_diffuse_100conc_versus_x.csv       100\n",
       "2    grid_diffuse_200conc_versus_x.csv       200\n",
       "3    grid_diffuse_300conc_versus_x.csv       300\n",
       "4    grid_diffuse_400conc_versus_x.csv       400\n",
       "..                                 ...       ...\n",
       "95  grid_diffuse_9500conc_versus_x.csv      9500\n",
       "96  grid_diffuse_9600conc_versus_x.csv      9600\n",
       "97  grid_diffuse_9700conc_versus_x.csv      9700\n",
       "98  grid_diffuse_9800conc_versus_x.csv      9800\n",
       "99  grid_diffuse_9900conc_versus_x.csv      9900\n",
       "\n",
       "[100 rows x 2 columns]"
      ]
     },
     "execution_count": 29,
     "metadata": {},
     "output_type": "execute_result"
    }
   ],
   "source": [
    "pdf"
   ]
  },
  {
   "cell_type": "code",
   "execution_count": 36,
   "id": "5ff3b43a-d684-49ac-99a1-8a92b88ff3af",
   "metadata": {},
   "outputs": [],
   "source": [
    "for i in range(pdf.shape[0]):\n",
    "    file = pdf['files'].values[i]\n",
    "    data = pd.read_csv(\"./output_evaluation/{}\".format(file), names=['distance_from_margin', 'conc_slice'])\n",
    "    t_iter = pdf['t_points'].values[i]\n",
    "    title = 'Distance from Margin vs Concentration Slice' + '\\n' + 't_iter={}'.format(t_iter)\n",
    "\n",
    "    plt.figure(figsize=(8,8))\n",
    "    plt.plot(data['distance_from_margin'], data['conc_slice'])\n",
    "    plt.ylim([0, 80])\n",
    "    plt.xlabel('Distance from Margin (units)')\n",
    "    plt.ylabel('Concentration Slice (units)')\n",
    "    plt.title(title)\n",
    "    plt.savefig(\"./figures/test/{}.jpg\".format(t_iter), bbox_inches='tight')\n",
    "    plt.close()"
   ]
  },
  {
   "cell_type": "code",
   "execution_count": null,
   "id": "df6a7296-7ef6-4c0e-84d5-d8dee6043ad5",
   "metadata": {},
   "outputs": [],
   "source": []
  },
  {
   "cell_type": "code",
   "execution_count": null,
   "id": "e33be767-ebe6-43dd-8f5f-840c7d584a7d",
   "metadata": {},
   "outputs": [],
   "source": []
  },
  {
   "cell_type": "code",
   "execution_count": null,
   "id": "beff9259",
   "metadata": {},
   "outputs": [],
   "source": []
  },
  {
   "cell_type": "code",
   "execution_count": null,
   "id": "4cd28dfc",
   "metadata": {},
   "outputs": [],
   "source": []
  },
  {
   "cell_type": "code",
   "execution_count": null,
   "id": "a06cb63e",
   "metadata": {},
   "outputs": [],
   "source": []
  },
  {
   "cell_type": "code",
   "execution_count": null,
   "id": "2efa1be0",
   "metadata": {},
   "outputs": [],
   "source": []
  },
  {
   "cell_type": "code",
   "execution_count": null,
   "id": "e49043c4",
   "metadata": {},
   "outputs": [],
   "source": []
  },
  {
   "cell_type": "code",
   "execution_count": null,
   "id": "07181cc4",
   "metadata": {},
   "outputs": [],
   "source": []
  }
 ],
 "metadata": {
  "kernelspec": {
   "display_name": "Python 3 (ipykernel)",
   "language": "python",
   "name": "python3"
  },
  "language_info": {
   "codemirror_mode": {
    "name": "ipython",
    "version": 3
   },
   "file_extension": ".py",
   "mimetype": "text/x-python",
   "name": "python",
   "nbconvert_exporter": "python",
   "pygments_lexer": "ipython3",
   "version": "3.8.10"
  }
 },
 "nbformat": 4,
 "nbformat_minor": 5
}
